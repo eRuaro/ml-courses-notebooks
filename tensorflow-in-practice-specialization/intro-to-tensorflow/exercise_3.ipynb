{
 "cells": [
  {
   "cell_type": "code",
   "execution_count": null,
   "source": [
    "import tensorflow as tf\r\n",
    "from os import path, getcwd, chdir\r\n",
    "\r\n",
    "# DO NOT CHANGE THE LINE BELOW. If you are developing in a local\r\n",
    "# environment, then grab mnist.npz from the Coursera Jupyter Notebook\r\n",
    "# and place it inside a local folder and edit the path to that location\r\n",
    "path = f\"{getcwd()}/../tmp2/mnist.npz\""
   ],
   "outputs": [],
   "metadata": {}
  },
  {
   "cell_type": "code",
   "execution_count": null,
   "source": [
    "config = tf.ConfigProto()\r\n",
    "config.gpu_options.allow_growth = True\r\n",
    "sess = tf.Session(config=config)"
   ],
   "outputs": [],
   "metadata": {}
  },
  {
   "cell_type": "code",
   "execution_count": null,
   "source": [
    "\r\n",
    "# GRADED FUNCTION: train_mnist_conv\r\n",
    "def train_mnist_conv():\r\n",
    "    # Please write your code only where you are indicated.\r\n",
    "    # please do not remove model fitting inline comments.\r\n",
    "\r\n",
    "   # YOUR CODE STARTS HERE\r\n",
    "    class myCallback(tf.keras.callbacks.Callback):\r\n",
    "      def on_epoch_end(self, epoch, logs={}):\r\n",
    "        # Change 'accuracy' to 'acc' for the Coursera autograder!\r\n",
    "        if(logs.get('acc')>0.998): \r\n",
    "          print(\"\\nReached 99.8% accuracy so cancelling training!\")\r\n",
    "          self.model.stop_training = True\r\n",
    "    # YOUR CODE ENDS HERE\r\n",
    "\r\n",
    "    mnist = tf.keras.datasets.mnist\r\n",
    "    (training_images, training_labels), (test_images, test_labels) = mnist.load_data(path=path)\r\n",
    "    # YOUR CODE STARTS HERE\r\n",
    "    training_images=training_images.reshape(60000, 28, 28, 1)\r\n",
    "    test_images = test_images.reshape(10000, 28, 28, 1)\r\n",
    "    training_images, test_images = training_images/255.0, test_images/255.0\r\n",
    "    callbacks = myCallback()\r\n",
    "    # YOUR CODE ENDS HERE\r\n",
    "\r\n",
    "    model = tf.keras.models.Sequential([\r\n",
    "      tf.keras.layers.Conv2D(32, (3,3), activation='relu', input_shape=(28, 28, 1)),\r\n",
    "      tf.keras.layers.MaxPooling2D(2, 2),\r\n",
    "      tf.keras.layers.Flatten(),\r\n",
    "      tf.keras.layers.Dense(128, activation='relu'),\r\n",
    "      tf.keras.layers.Dense(10, activation='softmax')\r\n",
    "    ])\r\n",
    "\r\n",
    "    model.compile(optimizer='adam', loss='sparse_categorical_crossentropy', metrics=['accuracy'])\r\n",
    "    # model fitting\r\n",
    "    history = model.fit(training_images, training_labels, epochs=20, callbacks=[callbacks])\r\n",
    "    # model fitting\r\n",
    "    # Change 'accuracy' to 'acc' for the Coursera autograder!\r\n",
    "    return history.epoch, history.history['acc'][-1]"
   ],
   "outputs": [],
   "metadata": {}
  },
  {
   "cell_type": "code",
   "execution_count": null,
   "source": [
    "_, _ = train_mnist_conv()"
   ],
   "outputs": [],
   "metadata": {}
  }
 ],
 "metadata": {
  "orig_nbformat": 4,
  "language_info": {
   "name": "python"
  }
 },
 "nbformat": 4,
 "nbformat_minor": 2
}