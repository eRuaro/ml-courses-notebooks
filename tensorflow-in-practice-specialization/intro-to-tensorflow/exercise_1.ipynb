{
 "cells": [
  {
   "cell_type": "code",
   "execution_count": null,
   "source": [
    "import tensorflow as tf\r\n",
    "import numpy as np\r\n",
    "from tensorflow import keras"
   ],
   "outputs": [],
   "metadata": {}
  },
  {
   "cell_type": "code",
   "execution_count": null,
   "source": [
    "# GRADED FUNCTION: house_model\r\n",
    "def house_model(y_new):\r\n",
    "    xs = np.array([1.0, 2.0, 3.0, 4.0, 5.0, 6.0], dtype = float)\r\n",
    "    ys = np.array([100, 150, 200, 250, 300, 350], dtype = float)\r\n",
    "    model = tf.keras.Sequential([keras.layers.Dense(units=1, input_shape=[1])])\r\n",
    "    model.compile(optimizer='sgd', loss='mean_squared_error')\r\n",
    "    model.fit(xs, ys/100, epochs=1000)\r\n",
    "    return model.predict(y_new)[0]"
   ],
   "outputs": [],
   "metadata": {}
  },
  {
   "cell_type": "code",
   "execution_count": null,
   "source": [
    "prediction = house_model([7.0])\r\n",
    "print(prediction)"
   ],
   "outputs": [],
   "metadata": {}
  }
 ],
 "metadata": {
  "orig_nbformat": 4,
  "language_info": {
   "name": "python"
  }
 },
 "nbformat": 4,
 "nbformat_minor": 2
}